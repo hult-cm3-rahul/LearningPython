{
  "cells": [
    {
      "cell_type": "markdown",
      "metadata": {
        "id": "C9LDV6VVkRtJ"
      },
      "source": [
        "## The structure of languages\n",
        "\n",
        "We will see in detail today the code for a lispy calculator we'll call `stupidlang`, focusing on environment frames as opposed to parsing. The parsing code is provided here, we shall talk about it later.\n",
        "\n",
        "This interpreter essentionally reproduces a lisp interpreter from Peter Norvig, but stripped down, and simpler.  Our reasoning for doing this is to expose you to some features of python, the use of closures to develop objects with state, and to see some basics of how a language works.\n",
        "\n",
        "Here is a program in this language:\n",
        "\n",
        "\n",
        "```\n",
        "(def rad 5)\n",
        "(def radiusfunc (func (radius) (* pi (* radius radius))))\n",
        "(radiusfunc rad)\n",
        "(def myvar 0)\n",
        "(if (== myvar 1) (store rad 6) (store rad 7))\n",
        "(radiusfunc rad)\n",
        "(== 1 1)\n",
        "```\n"
      ]
    },
    {
      "cell_type": "markdown",
      "metadata": {
        "id": "nKKJy_g9kRtK"
      },
      "source": [
        "### Environment Implementation\n",
        "\n",
        "Our initial implementation of this language will be rough and tumble, but we'll separate it into different files, separate interface from implementation, and package it up nicely as the semester goes...\n",
        "\n",
        "Indeed we will replace some of our closure-based implementations here by classes.\n",
        "\n",
        "#### Nested Environment Frames\n",
        "\n",
        "We implement an environment as frames nested, with the outer(upper) environment captured as a closure.\n"
      ]
    },
    {
      "cell_type": "code",
      "execution_count": null,
      "metadata": {
        "collapsed": true,
        "id": "gE8fFF7TkRtL"
      },
      "outputs": [],
      "source": [
        "def frame(outerenv = None):\n",
        "    bindings={}\n",
        "    def lookup(variable):\n",
        "        try:\n",
        "            found = bindings[variable]\n",
        "            env = dispatch\n",
        "        except KeyError:#not found inside, so go to the outer\n",
        "            if outerenv is not None:\n",
        "                found, env = outerenv('lookup', variable)\n",
        "            else:\n",
        "                raise NameError(\"{} <<>> not found in Environment\".format(variable))\n",
        "        return found, env\n",
        "    def extend(variable, value):\n",
        "        bindings[variable] = value\n",
        "    def extend_many(envtuples): # update can use a list of k,v tuples\n",
        "        bindings.update(envtuples)\n",
        "    def printit(): # for debugging\n",
        "        return bindings\n",
        "    #The dispatch function is what is returned\n",
        "    def dispatch(message, variable=None, value=None):\n",
        "        if message == 'lookup':\n",
        "            return lookup(variable)\n",
        "        elif message == 'extend':\n",
        "            return extend(variable, value)\n",
        "        elif message == 'extend_many':\n",
        "            return extend_many(value)\n",
        "        elif message == 'printit':\n",
        "            return printit()\n",
        "    return dispatch\n"
      ]
    },
    {
      "cell_type": "markdown",
      "source": [
        "Create a simple frame to test:"
      ],
      "metadata": {
        "id": "gCcpuCAq_mj7"
      }
    },
    {
      "cell_type": "code",
      "execution_count": null,
      "metadata": {
        "id": "rQBF6BIskRtL",
        "outputId": "a145cfa5-8df3-4a53-c4d6-a6aca594df2e",
        "colab": {
          "base_uri": "https://localhost:8080/"
        }
      },
      "outputs": [
        {
          "output_type": "execute_result",
          "data": {
            "text/plain": [
              "{'a': 5, 'b': 1, 'c': 2}"
            ]
          },
          "metadata": {},
          "execution_count": 3
        }
      ],
      "source": [
        "tryenv=frame()\n",
        "tryenv(\"extend\", 'a', 5)\n",
        "tups=[('b', 1), ('c', 2)]\n",
        "tryenv(\"extend_many\", None, tups)\n",
        "tryenv('printit')"
      ]
    },
    {
      "cell_type": "markdown",
      "source": [
        "extend that frame with a child..."
      ],
      "metadata": {
        "id": "U-gqa6lF_q-w"
      }
    },
    {
      "cell_type": "code",
      "execution_count": null,
      "metadata": {
        "id": "iqsLisklkRtM",
        "outputId": "ca272476-8eae-4794-f730-580094605836",
        "colab": {
          "base_uri": "https://localhost:8080/"
        }
      },
      "outputs": [
        {
          "output_type": "execute_result",
          "data": {
            "text/plain": [
              "(55, 5)"
            ]
          },
          "metadata": {},
          "execution_count": 4
        }
      ],
      "source": [
        "try2env=frame(tryenv)\n",
        "tryenv(\"extend\", 'd', 55)\n",
        "try2env(\"lookup\",'d')[0], try2env(\"lookup\",'a')[0]"
      ]
    },
    {
      "cell_type": "markdown",
      "metadata": {
        "id": "WzobB_ZhkRtM"
      },
      "source": [
        "### Parser\n",
        "\n",
        "We wont say much about the parser here except to remark that `lex` splits the program code into tokens, and converts to appropriate types using `typer`, and then `syn` converts these tokens into a nested list structure which reflects the structure of our language:\n",
        "\n",
        "```python\n",
        "program = \"\"\"\n",
        "(def rad 5)\n",
        "rad\n",
        "(def radiusfunc (func (radius) (* pi (* radius radius))))\n",
        "(radiusfunc rad)\n",
        "(def myvar 0)\n",
        "(if (== myvar 1) (store rad 6) (store rad 7))\n",
        "(radiusfunc rad)\n",
        "(== 1 1)\n",
        "\"\"\"\n",
        "```\n",
        "\n",
        "Line by line parse output:\n",
        "\n",
        "```\n",
        "[]\n",
        "['def', 'rad', 5]\n",
        "rad\n",
        "['def', 'radiusfunc', ['func', ['radius'], ['*', 'pi', ['*', 'radius', 'radius']]]]\n",
        "['radiusfunc', 'rad']\n",
        "['def', 'myvar', 0]\n",
        "['if', ['==', 'myvar', 1], ['store', 'rad', 6], ['store', 'rad', 7]]\n",
        "['radiusfunc', 'rad']\n",
        "['==', 1, 1]\n",
        "[]\n",
        "```\n",
        "\n",
        "Nore that the parsing process and the code there has nothing to do with the execution environment. We'll see this later with how python is processed as well."
      ]
    },
    {
      "cell_type": "code",
      "execution_count": null,
      "metadata": {
        "id": "s7QlVnLCkRtN"
      },
      "outputs": [],
      "source": [
        "Symbol = str\n",
        "\n",
        "def typer(token):\n",
        "    if token == 'true':\n",
        "        return True\n",
        "    elif token == 'false':\n",
        "        return False\n",
        "    try:\n",
        "        t = int(token)\n",
        "        return t\n",
        "    except ValueError:\n",
        "        try:\n",
        "            t = float(token)\n",
        "            return t\n",
        "        except ValueError:\n",
        "            return Symbol(token)\n",
        "\n",
        "def lex(loc):\n",
        "    tokenlist =  loc.replace('(', ' ( ').replace(')', ' ) ').split()\n",
        "    return [typer(t) for t in tokenlist]\n",
        "\n",
        "def syn(tokens):\n",
        "    if len(tokens) == 0:\n",
        "        return []\n",
        "    token = tokens.pop(0)\n",
        "    if token == '(':\n",
        "        L = []\n",
        "        while tokens[0] != ')':\n",
        "            L.append(syn(tokens))\n",
        "        tokens.pop(0) # pop off ')'\n",
        "        return L\n",
        "    else:\n",
        "        if token==')':\n",
        "            assert 1, \"should not have got here\"\n",
        "        return token\n",
        "\n",
        "def parse(loc):\n",
        "    return syn(lex(loc))"
      ]
    },
    {
      "cell_type": "markdown",
      "metadata": {
        "id": "n_MvsKjekRtN"
      },
      "source": [
        "### Evaluator\n",
        "\n",
        "Now lets talk about the program evaluation. Our evaluator uses the python environment. While it does not define a python frame-stack, it uses recursion via nested environment functions in python. All functionality like ops and built-in funcs are outsourced to python.\n",
        "\n",
        "This makes our language a **DSL**, or **Domain Specific Language**. Writing a \"self-hosting\" language is beyond the parameters of this course, but little DSL's using this kind of hosted structure, or even simpler, directly using syntax in the host language are very common. Examples are jquery in javascript, rails in ruby, etc...\n",
        "\n",
        "We first define the top level:\n",
        "\n",
        "#### Global Environment/Frame\n",
        "\n",
        "In this environment we put in everything in the math library, and define ops in terms of the built-in python ops and functions, so that we have a reasonably functioning calculator...\n",
        "\n",
        "We'll be importing everything from python's math module to use here..."
      ]
    },
    {
      "cell_type": "code",
      "source": [
        "import math\n",
        "vars(math)"
      ],
      "metadata": {
        "colab": {
          "base_uri": "https://localhost:8080/"
        },
        "id": "gOVtvIzeAKNG",
        "outputId": "1ed74d4b-5fb7-461e-ffcb-85a53a64a548"
      },
      "execution_count": null,
      "outputs": [
        {
          "output_type": "execute_result",
          "data": {
            "text/plain": [
              "{'__name__': 'math',\n",
              " '__doc__': 'This module provides access to the mathematical functions\\ndefined by the C standard.',\n",
              " '__package__': '',\n",
              " '__loader__': _frozen_importlib.BuiltinImporter,\n",
              " '__spec__': ModuleSpec(name='math', loader=<class '_frozen_importlib.BuiltinImporter'>, origin='built-in'),\n",
              " 'acos': <function math.acos(x, /)>,\n",
              " 'acosh': <function math.acosh(x, /)>,\n",
              " 'asin': <function math.asin(x, /)>,\n",
              " 'asinh': <function math.asinh(x, /)>,\n",
              " 'atan': <function math.atan(x, /)>,\n",
              " 'atan2': <function math.atan2(y, x, /)>,\n",
              " 'atanh': <function math.atanh(x, /)>,\n",
              " 'ceil': <function math.ceil(x, /)>,\n",
              " 'copysign': <function math.copysign(x, y, /)>,\n",
              " 'cos': <function math.cos(x, /)>,\n",
              " 'cosh': <function math.cosh(x, /)>,\n",
              " 'degrees': <function math.degrees(x, /)>,\n",
              " 'dist': <function math.dist(p, q, /)>,\n",
              " 'erf': <function math.erf(x, /)>,\n",
              " 'erfc': <function math.erfc(x, /)>,\n",
              " 'exp': <function math.exp(x, /)>,\n",
              " 'expm1': <function math.expm1(x, /)>,\n",
              " 'fabs': <function math.fabs(x, /)>,\n",
              " 'factorial': <function math.factorial(x, /)>,\n",
              " 'floor': <function math.floor(x, /)>,\n",
              " 'fmod': <function math.fmod(x, y, /)>,\n",
              " 'frexp': <function math.frexp(x, /)>,\n",
              " 'fsum': <function math.fsum(seq, /)>,\n",
              " 'gamma': <function math.gamma(x, /)>,\n",
              " 'gcd': <function math.gcd(*integers)>,\n",
              " 'hypot': <function math.hypot>,\n",
              " 'isclose': <function math.isclose(a, b, *, rel_tol=1e-09, abs_tol=0.0)>,\n",
              " 'isfinite': <function math.isfinite(x, /)>,\n",
              " 'isinf': <function math.isinf(x, /)>,\n",
              " 'isnan': <function math.isnan(x, /)>,\n",
              " 'isqrt': <function math.isqrt(n, /)>,\n",
              " 'lcm': <function math.lcm(*integers)>,\n",
              " 'ldexp': <function math.ldexp(x, i, /)>,\n",
              " 'lgamma': <function math.lgamma(x, /)>,\n",
              " 'log': <function math.log>,\n",
              " 'log1p': <function math.log1p(x, /)>,\n",
              " 'log10': <function math.log10(x, /)>,\n",
              " 'log2': <function math.log2(x, /)>,\n",
              " 'modf': <function math.modf(x, /)>,\n",
              " 'pow': <function math.pow(x, y, /)>,\n",
              " 'radians': <function math.radians(x, /)>,\n",
              " 'remainder': <function math.remainder(x, y, /)>,\n",
              " 'sin': <function math.sin(x, /)>,\n",
              " 'sinh': <function math.sinh(x, /)>,\n",
              " 'sqrt': <function math.sqrt(x, /)>,\n",
              " 'tan': <function math.tan(x, /)>,\n",
              " 'tanh': <function math.tanh(x, /)>,\n",
              " 'trunc': <function math.trunc(x, /)>,\n",
              " 'prod': <function math.prod(iterable, /, *, start=1)>,\n",
              " 'perm': <function math.perm(n, k=None, /)>,\n",
              " 'comb': <function math.comb(n, k, /)>,\n",
              " 'nextafter': <function math.nextafter(x, y, /)>,\n",
              " 'ulp': <function math.ulp(x, /)>,\n",
              " 'pi': 3.141592653589793,\n",
              " 'e': 2.718281828459045,\n",
              " 'tau': 6.283185307179586,\n",
              " 'inf': inf,\n",
              " 'nan': nan}"
            ]
          },
          "metadata": {},
          "execution_count": 9
        }
      ]
    },
    {
      "cell_type": "code",
      "execution_count": null,
      "metadata": {
        "id": "zVg9cgZ2kRtO"
      },
      "outputs": [],
      "source": [
        "import math, operator as op\n",
        "def global_frame():\n",
        "    \"An environment with some Scheme standard procedures.\"\n",
        "    env = frame()\n",
        "    env(\"extend_many\", None, vars(math))\n",
        "    env(\"extend_many\", None, {\n",
        "        '+':op.add, '-':op.sub, '*':op.mul, '/':op.truediv,\n",
        "        'abs':     abs,\n",
        "        'max':     max,\n",
        "        'min':     min,\n",
        "        'round':   round,\n",
        "        '>':op.gt, '<':op.lt, '>=':op.ge, '<=':op.le, '==':op.eq,\n",
        "        'not':     op.not_\n",
        "    })\n",
        "    return env"
      ]
    },
    {
      "cell_type": "code",
      "execution_count": null,
      "metadata": {
        "id": "ceWPbtfakRtO"
      },
      "outputs": [],
      "source": [
        "globenv = global_frame()"
      ]
    },
    {
      "cell_type": "markdown",
      "metadata": {
        "id": "8EOlIEjfkRtO"
      },
      "source": [
        "#### The workhorse\n",
        "\n",
        "The workhorse of our language is the `eval_ptree` below. What it does is to go one-by-one through the various types of symbols that arise, and evaluate them in the context of our environment and enclosing environment. It needs to work recursively, evalusting subexpressions in stuff like `if` statements and stupidlang function bodies."
      ]
    },
    {
      "cell_type": "code",
      "execution_count": null,
      "metadata": {
        "id": "xQXjIbqjkRtP"
      },
      "outputs": [],
      "source": [
        "def eval_ptree(x, env):\n",
        "    truthy_map={'#t':True, '#f':False, 'nil':None}\n",
        "    if x in ('#t', '#f', 'nil'):#handle boolean tokens first\n",
        "        return truthy_map[x]\n",
        "    elif isinstance(x, Symbol): #else do a lookup\n",
        "        # variable, op lookup\n",
        "        return env(\"lookup\", x)[0]\n",
        "    elif not isinstance(x, list):  # if still not a list, we are a constant\n",
        "        return x\n",
        "    elif len(x)==0: #noop for an empty list\n",
        "        return None\n",
        "    elif x[0]=='if':#an if statement\n",
        "        (_, predicate, truexpr, falseexpr) = x\n",
        "        if eval_ptree(predicate, env):\n",
        "            expression = truexpr\n",
        "        else:\n",
        "            expression = falseexpr\n",
        "        return eval_ptree(expression, env)\n",
        "    elif x[0] == 'def':         # variable or function definition, local\n",
        "        #print('in def x is',x)\n",
        "        (_, var, expression) = x\n",
        "        #postorder traversal by nested eval is needed below\n",
        "        env('extend', var, eval_ptree(expression, env))\n",
        "    elif x[0] == 'store':           # (store var exp), like set!\n",
        "        (_, var, exp) = x\n",
        "        env_found_in = env(\"lookup\", var)[1]#can be found in an outer env\n",
        "        env_found_in(\"extend\", var, eval_ptree(exp, env))\n",
        "    elif x[0] == 'func': #this is the function definition, not the execution\n",
        "        #print(\"in func x is\",x)\n",
        "        (_, parameters, parsedbody) = x\n",
        "        return func(parameters, parsedbody, env)\n",
        "    else:                          # operators, funcs calling\n",
        "        #print(\"x\", x, \"env\", env(\"printit\"))\n",
        "        op = eval_ptree(x[0], env)\n",
        "        #postorder traversal to get subexpressione before running the op\n",
        "        args = tuple([eval_ptree(arg, env) for arg in x[1:]])\n",
        "        #print('argies', args, op.__name__)\n",
        "        #Function execution\n",
        "        if op.__name__=='dispatch':#need to handle our defined funcs\n",
        "            return op('call', *args)\n",
        "        else:#regular ops and funcs we added to the environment\n",
        "            return op(*args)"
      ]
    },
    {
      "cell_type": "markdown",
      "metadata": {
        "id": "UJ0h7LnnkRtP"
      },
      "source": [
        "#### Defining a function in our language\n",
        "\n",
        "Here is where we define a function. The function object represented by the returned `dispatch` function uses a closure to hold in the params, env in which function was defined, and code body.\n",
        "\n",
        "The actual execution happens when `call` is called, via a function call `eval_ptree` defined above."
      ]
    },
    {
      "cell_type": "code",
      "execution_count": null,
      "metadata": {
        "collapsed": true,
        "id": "U-4KCivykRtP"
      },
      "outputs": [],
      "source": [
        "def func(params, parsedbody, env):\n",
        "    def call(argstuple):\n",
        "        print(\"in call\", params, parsedbody, argstuple)\n",
        "        # here is where we create a frame to run the function\n",
        "        funcenv = frame(outerenv=env)\n",
        "        funcenv('extend_many', None, zip(params, argstuple))\n",
        "        #print(funcenv('printit'))\n",
        "        return eval_ptree(parsedbody, funcenv)\n",
        "    def dispatch(message, *args):\n",
        "        print(\"in dispatch args are\", message, args)\n",
        "        if message=='call':\n",
        "            return call(args)\n",
        "    #print(\"at define time\", params, parsedbody, env('printit'))\n",
        "    return dispatch\n"
      ]
    },
    {
      "cell_type": "code",
      "execution_count": null,
      "metadata": {
        "id": "dUTyU1NckRtP",
        "outputId": "8c5c1a16-8f4a-4078-fca7-384791c5d03a",
        "colab": {
          "base_uri": "https://localhost:8080/"
        }
      },
      "outputs": [
        {
          "output_type": "stream",
          "name": "stdout",
          "text": [
            "in dispatch args are call (5, 7)\n",
            "in call ['radius', 'area'] [] (5, 7)\n"
          ]
        }
      ],
      "source": [
        "dafunc=func(['radius', 'area'],[], globenv)\n",
        "dafunc('call', 5, 7)"
      ]
    },
    {
      "cell_type": "markdown",
      "metadata": {
        "id": "dgHNebObkRtP"
      },
      "source": [
        "### Driver to run the code\n",
        "\n",
        "We provide some driver functions:"
      ]
    },
    {
      "cell_type": "code",
      "execution_count": null,
      "metadata": {
        "collapsed": true,
        "id": "A2E04oGrkRtP"
      },
      "outputs": [],
      "source": [
        "def parse_program(program):\n",
        "    \"parse program line by line\"\n",
        "    output=[]\n",
        "    program = [e.strip() for e in program.split('\\n')]\n",
        "    for l in program:\n",
        "        output.append(parse(l))\n",
        "    return output"
      ]
    },
    {
      "cell_type": "code",
      "execution_count": null,
      "metadata": {
        "collapsed": true,
        "id": "ZCa58E9DkRtP"
      },
      "outputs": [],
      "source": [
        "def run_program(program, env):\n",
        "    \"\"\"\n",
        "    run program line by line, accumulating python\n",
        "    output in an array\n",
        "    \"\"\"\n",
        "    output=[]\n",
        "    program = [e.strip() for e in program.split('\\n')]\n",
        "    # your code here\n",
        "    for l in program:\n",
        "        parsed = parse(l)\n",
        "        print(\">\", parsed)\n",
        "        output.append(eval_ptree(parsed, env))\n",
        "    return output"
      ]
    },
    {
      "cell_type": "markdown",
      "metadata": {
        "id": "sqPM7F-PkRtP"
      },
      "source": [
        "The `backtolang` function below converts python output from stupidlang code snippets back into stupidlang, so appropriate outputs can be printed. The game is simply to stringify numbers, and convert bools and lists appropriately.\n",
        "\n",
        "We also provide a `repl`, which allows us to run code line by line."
      ]
    },
    {
      "cell_type": "code",
      "execution_count": null,
      "metadata": {
        "id": "O_Jt6DaSkRtP"
      },
      "outputs": [],
      "source": [
        "def backtolang(exp):\n",
        "    boolmap={True:'#t', False:'#f'}\n",
        "    if  isinstance(exp, list):\n",
        "        return '(' + ' '.join(map(backtolang, exp)) + ')'\n",
        "    elif isinstance(exp, bool):\n",
        "        return boolmap[exp]\n",
        "    elif exp is None:\n",
        "        return 'nil'\n",
        "    else:\n",
        "        return str(exp)\n",
        "\n",
        "def repl(env, prompt='calc> '):\n",
        "    while True:\n",
        "        try:\n",
        "            val = eval_ptree(parse(input(prompt)), env)\n",
        "        except (KeyboardInterrupt, EOFError):\n",
        "            break\n",
        "        if val is not None:\n",
        "            print(backtolang(val))\n",
        "\n"
      ]
    },
    {
      "cell_type": "markdown",
      "metadata": {
        "id": "eFLQwEXWkRtQ"
      },
      "source": [
        "### Try it out"
      ]
    },
    {
      "cell_type": "code",
      "execution_count": null,
      "metadata": {
        "collapsed": true,
        "id": "u_h9pXrXkRtQ"
      },
      "outputs": [],
      "source": [
        "program = \"\"\"\n",
        "(def rad 5)\n",
        "rad\n",
        "(def radiusfunc (func (radius) (* pi (* radius radius))))\n",
        "(radiusfunc rad)\n",
        "(def myvar 0)\n",
        "(if (== myvar 1) (store rad 6) (store rad 7))\n",
        "(radiusfunc rad)\n",
        "(== 1 1)\n",
        "\"\"\""
      ]
    },
    {
      "cell_type": "code",
      "execution_count": null,
      "metadata": {
        "id": "VS8dcnsAkRtQ",
        "outputId": "2fc8750a-31d2-4472-ee3d-b96e118f9e3e",
        "colab": {
          "base_uri": "https://localhost:8080/"
        }
      },
      "outputs": [
        {
          "output_type": "stream",
          "name": "stdout",
          "text": [
            "[]\n",
            "['def', 'rad', 5]\n",
            "rad\n",
            "['def', 'radiusfunc', ['func', ['radius'], ['*', 'pi', ['*', 'radius', 'radius']]]]\n",
            "['radiusfunc', 'rad']\n",
            "['def', 'myvar', 0]\n",
            "['if', ['==', 'myvar', 1], ['store', 'rad', 6], ['store', 'rad', 7]]\n",
            "['radiusfunc', 'rad']\n",
            "['==', 1, 1]\n",
            "[]\n"
          ]
        }
      ],
      "source": [
        "for s in parse_program(program):\n",
        "    print(s)"
      ]
    },
    {
      "cell_type": "code",
      "execution_count": null,
      "metadata": {
        "id": "taEjZ1DskRtQ",
        "outputId": "fd76c255-9feb-451f-ca4e-49e4cd47500b",
        "colab": {
          "base_uri": "https://localhost:8080/"
        }
      },
      "outputs": [
        {
          "output_type": "stream",
          "name": "stdout",
          "text": [
            "> []\n",
            "> ['def', 'rad', 5]\n",
            "> rad\n",
            "> ['def', 'radiusfunc', ['func', ['radius'], ['*', 'pi', ['*', 'radius', 'radius']]]]\n",
            "> ['radiusfunc', 'rad']\n",
            "in dispatch args are call (5,)\n",
            "in call ['radius'] ['*', 'pi', ['*', 'radius', 'radius']] (5,)\n",
            "> ['def', 'myvar', 0]\n",
            "> ['if', ['==', 'myvar', 1], ['store', 'rad', 6], ['store', 'rad', 7]]\n",
            "> ['radiusfunc', 'rad']\n",
            "in dispatch args are call (7,)\n",
            "in call ['radius'] ['*', 'pi', ['*', 'radius', 'radius']] (7,)\n",
            "> ['==', 1, 1]\n",
            "> []\n",
            "nil\n",
            "nil\n",
            "5\n",
            "nil\n",
            "78.53981633974483\n",
            "nil\n",
            "nil\n",
            "153.93804002589985\n",
            "#t\n",
            "nil\n"
          ]
        }
      ],
      "source": [
        "for result in run_program(program, globenv):\n",
        "    print(backtolang(result))"
      ]
    },
    {
      "cell_type": "code",
      "execution_count": null,
      "metadata": {
        "id": "AIedJyEqkRtQ",
        "outputId": "fbc009e8-2246-494d-eca1-d1a6846106c2",
        "colab": {
          "base_uri": "https://localhost:8080/",
          "height": 468
        }
      },
      "outputs": [
        {
          "name": "stdout",
          "output_type": "stream",
          "text": [
            "calc> (+ 1 1)\n",
            "2\n",
            "calc> fdfdf\n"
          ]
        },
        {
          "output_type": "error",
          "ename": "NameError",
          "evalue": "fdfdf <<>> not found in Environment",
          "traceback": [
            "\u001b[0;31m---------------------------------------------------------------------------\u001b[0m",
            "\u001b[0;31mKeyError\u001b[0m                                  Traceback (most recent call last)",
            "\u001b[0;32m<ipython-input-1-509924dd4688>\u001b[0m in \u001b[0;36mlookup\u001b[0;34m(variable)\u001b[0m\n\u001b[1;32m      4\u001b[0m         \u001b[0;32mtry\u001b[0m\u001b[0;34m:\u001b[0m\u001b[0;34m\u001b[0m\u001b[0;34m\u001b[0m\u001b[0m\n\u001b[0;32m----> 5\u001b[0;31m             \u001b[0mfound\u001b[0m \u001b[0;34m=\u001b[0m \u001b[0mbindings\u001b[0m\u001b[0;34m[\u001b[0m\u001b[0mvariable\u001b[0m\u001b[0;34m]\u001b[0m\u001b[0;34m\u001b[0m\u001b[0;34m\u001b[0m\u001b[0m\n\u001b[0m\u001b[1;32m      6\u001b[0m             \u001b[0menv\u001b[0m \u001b[0;34m=\u001b[0m \u001b[0mdispatch\u001b[0m\u001b[0;34m\u001b[0m\u001b[0;34m\u001b[0m\u001b[0m\n",
            "\u001b[0;31mKeyError\u001b[0m: 'fdfdf'",
            "\nDuring handling of the above exception, another exception occurred:\n",
            "\u001b[0;31mNameError\u001b[0m                                 Traceback (most recent call last)",
            "\u001b[0;32m<ipython-input-25-b6126c0a959c>\u001b[0m in \u001b[0;36m<cell line: 1>\u001b[0;34m()\u001b[0m\n\u001b[0;32m----> 1\u001b[0;31m \u001b[0mrepl\u001b[0m\u001b[0;34m(\u001b[0m\u001b[0mglobenv\u001b[0m\u001b[0;34m)\u001b[0m\u001b[0;31m# to get out of the repl in the notebook just cause an exception like below\u001b[0m\u001b[0;34m\u001b[0m\u001b[0;34m\u001b[0m\u001b[0m\n\u001b[0m",
            "\u001b[0;32m<ipython-input-21-0a1a7f3c5401>\u001b[0m in \u001b[0;36mrepl\u001b[0;34m(env, prompt)\u001b[0m\n\u001b[1;32m     13\u001b[0m     \u001b[0;32mwhile\u001b[0m \u001b[0;32mTrue\u001b[0m\u001b[0;34m:\u001b[0m\u001b[0;34m\u001b[0m\u001b[0;34m\u001b[0m\u001b[0m\n\u001b[1;32m     14\u001b[0m         \u001b[0;32mtry\u001b[0m\u001b[0;34m:\u001b[0m\u001b[0;34m\u001b[0m\u001b[0;34m\u001b[0m\u001b[0m\n\u001b[0;32m---> 15\u001b[0;31m             \u001b[0mval\u001b[0m \u001b[0;34m=\u001b[0m \u001b[0meval_ptree\u001b[0m\u001b[0;34m(\u001b[0m\u001b[0mparse\u001b[0m\u001b[0;34m(\u001b[0m\u001b[0minput\u001b[0m\u001b[0;34m(\u001b[0m\u001b[0mprompt\u001b[0m\u001b[0;34m)\u001b[0m\u001b[0;34m)\u001b[0m\u001b[0;34m,\u001b[0m \u001b[0menv\u001b[0m\u001b[0;34m)\u001b[0m\u001b[0;34m\u001b[0m\u001b[0;34m\u001b[0m\u001b[0m\n\u001b[0m\u001b[1;32m     16\u001b[0m         \u001b[0;32mexcept\u001b[0m \u001b[0;34m(\u001b[0m\u001b[0mKeyboardInterrupt\u001b[0m\u001b[0;34m,\u001b[0m \u001b[0mEOFError\u001b[0m\u001b[0;34m)\u001b[0m\u001b[0;34m:\u001b[0m\u001b[0;34m\u001b[0m\u001b[0;34m\u001b[0m\u001b[0m\n\u001b[1;32m     17\u001b[0m             \u001b[0;32mbreak\u001b[0m\u001b[0;34m\u001b[0m\u001b[0;34m\u001b[0m\u001b[0m\n",
            "\u001b[0;32m<ipython-input-15-2acfcadd830d>\u001b[0m in \u001b[0;36meval_ptree\u001b[0;34m(x, env)\u001b[0m\n\u001b[1;32m      5\u001b[0m     \u001b[0;32melif\u001b[0m \u001b[0misinstance\u001b[0m\u001b[0;34m(\u001b[0m\u001b[0mx\u001b[0m\u001b[0;34m,\u001b[0m \u001b[0mSymbol\u001b[0m\u001b[0;34m)\u001b[0m\u001b[0;34m:\u001b[0m \u001b[0;31m#else do a lookup\u001b[0m\u001b[0;34m\u001b[0m\u001b[0;34m\u001b[0m\u001b[0m\n\u001b[1;32m      6\u001b[0m         \u001b[0;31m# variable, op lookup\u001b[0m\u001b[0;34m\u001b[0m\u001b[0;34m\u001b[0m\u001b[0m\n\u001b[0;32m----> 7\u001b[0;31m         \u001b[0;32mreturn\u001b[0m \u001b[0menv\u001b[0m\u001b[0;34m(\u001b[0m\u001b[0;34m\"lookup\"\u001b[0m\u001b[0;34m,\u001b[0m \u001b[0mx\u001b[0m\u001b[0;34m)\u001b[0m\u001b[0;34m[\u001b[0m\u001b[0;36m0\u001b[0m\u001b[0;34m]\u001b[0m\u001b[0;34m\u001b[0m\u001b[0;34m\u001b[0m\u001b[0m\n\u001b[0m\u001b[1;32m      8\u001b[0m     \u001b[0;32melif\u001b[0m \u001b[0;32mnot\u001b[0m \u001b[0misinstance\u001b[0m\u001b[0;34m(\u001b[0m\u001b[0mx\u001b[0m\u001b[0;34m,\u001b[0m \u001b[0mlist\u001b[0m\u001b[0;34m)\u001b[0m\u001b[0;34m:\u001b[0m  \u001b[0;31m# if still not a list, we are a constant\u001b[0m\u001b[0;34m\u001b[0m\u001b[0;34m\u001b[0m\u001b[0m\n\u001b[1;32m      9\u001b[0m         \u001b[0;32mreturn\u001b[0m \u001b[0mx\u001b[0m\u001b[0;34m\u001b[0m\u001b[0;34m\u001b[0m\u001b[0m\n",
            "\u001b[0;32m<ipython-input-1-509924dd4688>\u001b[0m in \u001b[0;36mdispatch\u001b[0;34m(message, variable, value)\u001b[0m\n\u001b[1;32m     20\u001b[0m     \u001b[0;32mdef\u001b[0m \u001b[0mdispatch\u001b[0m\u001b[0;34m(\u001b[0m\u001b[0mmessage\u001b[0m\u001b[0;34m,\u001b[0m \u001b[0mvariable\u001b[0m\u001b[0;34m=\u001b[0m\u001b[0;32mNone\u001b[0m\u001b[0;34m,\u001b[0m \u001b[0mvalue\u001b[0m\u001b[0;34m=\u001b[0m\u001b[0;32mNone\u001b[0m\u001b[0;34m)\u001b[0m\u001b[0;34m:\u001b[0m\u001b[0;34m\u001b[0m\u001b[0;34m\u001b[0m\u001b[0m\n\u001b[1;32m     21\u001b[0m         \u001b[0;32mif\u001b[0m \u001b[0mmessage\u001b[0m \u001b[0;34m==\u001b[0m \u001b[0;34m'lookup'\u001b[0m\u001b[0;34m:\u001b[0m\u001b[0;34m\u001b[0m\u001b[0;34m\u001b[0m\u001b[0m\n\u001b[0;32m---> 22\u001b[0;31m             \u001b[0;32mreturn\u001b[0m \u001b[0mlookup\u001b[0m\u001b[0;34m(\u001b[0m\u001b[0mvariable\u001b[0m\u001b[0;34m)\u001b[0m\u001b[0;34m\u001b[0m\u001b[0;34m\u001b[0m\u001b[0m\n\u001b[0m\u001b[1;32m     23\u001b[0m         \u001b[0;32melif\u001b[0m \u001b[0mmessage\u001b[0m \u001b[0;34m==\u001b[0m \u001b[0;34m'extend'\u001b[0m\u001b[0;34m:\u001b[0m\u001b[0;34m\u001b[0m\u001b[0;34m\u001b[0m\u001b[0m\n\u001b[1;32m     24\u001b[0m             \u001b[0;32mreturn\u001b[0m \u001b[0mextend\u001b[0m\u001b[0;34m(\u001b[0m\u001b[0mvariable\u001b[0m\u001b[0;34m,\u001b[0m \u001b[0mvalue\u001b[0m\u001b[0;34m)\u001b[0m\u001b[0;34m\u001b[0m\u001b[0;34m\u001b[0m\u001b[0m\n",
            "\u001b[0;32m<ipython-input-1-509924dd4688>\u001b[0m in \u001b[0;36mlookup\u001b[0;34m(variable)\u001b[0m\n\u001b[1;32m      9\u001b[0m                 \u001b[0mfound\u001b[0m\u001b[0;34m,\u001b[0m \u001b[0menv\u001b[0m \u001b[0;34m=\u001b[0m \u001b[0mouterenv\u001b[0m\u001b[0;34m(\u001b[0m\u001b[0;34m'lookup'\u001b[0m\u001b[0;34m,\u001b[0m \u001b[0mvariable\u001b[0m\u001b[0;34m)\u001b[0m\u001b[0;34m\u001b[0m\u001b[0;34m\u001b[0m\u001b[0m\n\u001b[1;32m     10\u001b[0m             \u001b[0;32melse\u001b[0m\u001b[0;34m:\u001b[0m\u001b[0;34m\u001b[0m\u001b[0;34m\u001b[0m\u001b[0m\n\u001b[0;32m---> 11\u001b[0;31m                 \u001b[0;32mraise\u001b[0m \u001b[0mNameError\u001b[0m\u001b[0;34m(\u001b[0m\u001b[0;34m\"{} <<>> not found in Environment\"\u001b[0m\u001b[0;34m.\u001b[0m\u001b[0mformat\u001b[0m\u001b[0;34m(\u001b[0m\u001b[0mvariable\u001b[0m\u001b[0;34m)\u001b[0m\u001b[0;34m)\u001b[0m\u001b[0;34m\u001b[0m\u001b[0;34m\u001b[0m\u001b[0m\n\u001b[0m\u001b[1;32m     12\u001b[0m         \u001b[0;32mreturn\u001b[0m \u001b[0mfound\u001b[0m\u001b[0;34m,\u001b[0m \u001b[0menv\u001b[0m\u001b[0;34m\u001b[0m\u001b[0;34m\u001b[0m\u001b[0m\n\u001b[1;32m     13\u001b[0m     \u001b[0;32mdef\u001b[0m \u001b[0mextend\u001b[0m\u001b[0;34m(\u001b[0m\u001b[0mvariable\u001b[0m\u001b[0;34m,\u001b[0m \u001b[0mvalue\u001b[0m\u001b[0;34m)\u001b[0m\u001b[0;34m:\u001b[0m\u001b[0;34m\u001b[0m\u001b[0;34m\u001b[0m\u001b[0m\n",
            "\u001b[0;31mNameError\u001b[0m: fdfdf <<>> not found in Environment"
          ]
        }
      ],
      "source": [
        "repl(globenv)# to get out of the repl in the notebook just cause an exception like below"
      ]
    },
    {
      "cell_type": "code",
      "source": [],
      "metadata": {
        "id": "TBDgxb8fFEx6"
      },
      "execution_count": null,
      "outputs": []
    }
  ],
  "metadata": {
    "anaconda-cloud": {},
    "kernelspec": {
      "display_name": "Python [default]",
      "language": "python",
      "name": "python3"
    },
    "language_info": {
      "codemirror_mode": {
        "name": "ipython",
        "version": 3
      },
      "file_extension": ".py",
      "mimetype": "text/x-python",
      "name": "python",
      "nbconvert_exporter": "python",
      "pygments_lexer": "ipython3",
      "version": "3.5.2"
    },
    "colab": {
      "provenance": []
    }
  },
  "nbformat": 4,
  "nbformat_minor": 0
}