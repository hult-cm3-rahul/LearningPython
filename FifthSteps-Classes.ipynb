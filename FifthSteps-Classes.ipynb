{
 "cells": [
  {
   "cell_type": "markdown",
   "metadata": {},
   "source": [
    "# Environments and Frames\n",
    "\n",
    "Let us have some global variables and define a function."
   ]
  },
  {
   "cell_type": "code",
   "execution_count": null,
   "metadata": {},
   "outputs": [
    {
     "data": {
      "text/plain": [
       "53"
      ]
     },
     "execution_count": null,
     "metadata": {},
     "output_type": "execute_result"
    }
   ],
   "source": [
    "a = 100\n",
    "def whatisit(num):\n",
    "    y = 43\n",
    "    z = y + num\n",
    "    return z\n",
    "whatisit(10)"
   ]
  },
  {
   "cell_type": "markdown",
   "metadata": {},
   "source": [
    "https://pythontutor.com/render.html#code=a%20%3D%20100%0Adef%20whatisit%28num%29%3A%0A%20%20%20%20y%20%3D%2043%0A%20%20%20%20z%20%3D%20y%20%2B%20num%0A%20%20%20%20return%20z%0Awhatisit%2810%29&cumulative=false&curInstr=8&heapPrimitives=nevernest&mode=display&origin=opt-frontend.js&py=311&rawInputLstJSON=%5B%5D&textReferences=false"
   ]
  },
  {
   "cell_type": "code",
   "execution_count": null,
   "metadata": {},
   "outputs": [
    {
     "data": {
      "text/plain": [
       "6"
      ]
     },
     "execution_count": null,
     "metadata": {},
     "output_type": "execute_result"
    }
   ],
   "source": [
    "def fact(n):\n",
    "    if n == 0:\n",
    "        return 1\n",
    "    else:\n",
    "        return n*fact(n-1)\n",
    "fact(3)"
   ]
  },
  {
   "cell_type": "markdown",
   "metadata": {},
   "source": [
    "https://pythontutor.com/render.html#code=def%20fact%28n%29%3A%0A%20%20%20%20if%20n%20%3D%3D%200%3A%0A%20%20%20%20%20%20%20%20return%201%0A%20%20%20%20else%3A%0A%20%20%20%20%20%20%20%20return%20n*fact%28n-1%29%0Afact%283%29&cumulative=false&curInstr=0&heapPrimitives=nevernest&mode=display&origin=opt-frontend.js&py=311&rawInputLstJSON=%5B%5D&textReferences=false"
   ]
  },
  {
   "cell_type": "code",
   "execution_count": null,
   "metadata": {},
   "outputs": [],
   "source": [
    "x = 20\n",
    "def f(y):\n",
    "    temp = y + x\n",
    "    return temp"
   ]
  },
  {
   "cell_type": "markdown",
   "metadata": {},
   "source": [
    "Visualize this at: https://pythontutor.com/render.html#code=x%20%3D%2020%0Adef%20f%28y%29%3A%0A%20%20%20%20temp%20%3D%20y%20%2B%20x%0A%20%20%20%20return%20temp%0Af%284%29&cumulative=false&curInstr=0&heapPrimitives=nevernest&mode=display&origin=opt-frontend.js&py=311&rawInputLstJSON=%5B%5D&textReferences=false"
   ]
  },
  {
   "cell_type": "code",
   "execution_count": null,
   "metadata": {},
   "outputs": [
    {
     "data": {
      "text/plain": [
       "25"
      ]
     },
     "execution_count": null,
     "metadata": {},
     "output_type": "execute_result"
    }
   ],
   "source": [
    "x = 20\n",
    "def gmaker(y):\n",
    "    def g():\n",
    "        temp = y + x\n",
    "        return temp\n",
    "    return g\n",
    "gee = gmaker(5)\n",
    "gee()"
   ]
  },
  {
   "cell_type": "markdown",
   "metadata": {},
   "source": [
    "Visualize this at:\n",
    "\n",
    "https://pythontutor.com/render.html#code=x%20%3D%2020%0Adef%20gmaker%28y%29%3A%0A%20%20%20%20def%20g%28%29%3A%0A%20%20%20%20%20%20%20%20temp%20%3D%20y%20%2B%20x%0A%20%20%20%20%20%20%20%20return%20temp%0A%20%20%20%20return%20g%0Agee%20%3D%20gmaker%285%29%0Agee%28%29&cumulative=false&curInstr=0&heapPrimitives=nevernest&mode=display&origin=opt-frontend.js&py=311&rawInputLstJSON=%5B%5D&textReferences=false"
   ]
  },
  {
   "cell_type": "code",
   "execution_count": null,
   "metadata": {},
   "outputs": [
    {
     "data": {
      "text/plain": [
       "30"
      ]
     },
     "execution_count": null,
     "metadata": {},
     "output_type": "execute_result"
    }
   ],
   "source": [
    "gee2 = gmaker(10)\n",
    "gee2()"
   ]
  },
  {
   "cell_type": "code",
   "execution_count": null,
   "metadata": {},
   "outputs": [
    {
     "data": {
      "text/plain": [
       "80"
      ]
     },
     "execution_count": null,
     "metadata": {},
     "output_type": "execute_result"
    }
   ],
   "source": [
    "def bankaccount(balance):\n",
    "    def withdraw(amount):\n",
    "        nonlocal balance\n",
    "        balance = balance - amount\n",
    "        return balance\n",
    "    return withdraw\n",
    "b = bankaccount(100)\n",
    "b(20)"
   ]
  },
  {
   "cell_type": "markdown",
   "metadata": {},
   "source": [
    "https://pythontutor.com/render.html#code=def%20bankaccount%28balance%29%3A%0A%20%20%20%20def%20withdraw%28amount%29%3A%0A%20%20%20%20%20%20%20%20nonlocal%20balance%0A%20%20%20%20%20%20%20%20balance%20%3D%20balance%20-%20amount%0A%20%20%20%20%20%20%20%20return%20balance%0A%20%20%20%20return%20withdraw%0Ab%20%3D%20bankaccount%28100%29%0Ab%2820%29&cumulative=false&curInstr=11&heapPrimitives=nevernest&mode=display&origin=opt-frontend.js&py=311&rawInputLstJSON=%5B%5D&textReferences=false"
   ]
  },
  {
   "cell_type": "code",
   "execution_count": null,
   "metadata": {},
   "outputs": [
    {
     "data": {
      "text/plain": [
       "80"
      ]
     },
     "execution_count": null,
     "metadata": {},
     "output_type": "execute_result"
    }
   ],
   "source": [
    "class Bankaccount:\n",
    "    def __init__(self, balance):\n",
    "        self.balance = balance\n",
    "    def withdraw(self, amount):\n",
    "        self.balance = self.balance - amount\n",
    "        return self.balance\n",
    "b = Bankaccount(100)\n",
    "b.withdraw(20)"
   ]
  },
  {
   "cell_type": "markdown",
   "metadata": {},
   "source": [
    "https://pythontutor.com/render.html#code=class%20Bankaccount%3A%0A%20%20%20%20def%20__init__%28self,%20balance%29%3A%0A%20%20%20%20%20%20%20%20self.balance%20%3D%20balance%0A%20%20%20%20def%20withdraw%28self,%20amount%29%3A%0A%20%20%20%20%20%20%20%20self.balance%20%3D%20self.balance%20-%20amount%0A%20%20%20%20%20%20%20%20return%20self.balance%0Ab%20%3D%20Bankaccount%28100%29%0Ab.withdraw%2820%29&cumulative=false&curInstr=10&heapPrimitives=nevernest&mode=display&origin=opt-frontend.js&py=311&rawInputLstJSON=%5B%5D&textReferences=false"
   ]
  },
  {
   "cell_type": "markdown",
   "metadata": {},
   "source": [
    "# Classes "
   ]
  },
  {
   "cell_type": "markdown",
   "metadata": {},
   "source": [
    "Python is an **object oriented programming language**. It allows you to manipulate objects and functions belonging to them, also called **methods**\n",
    "\n",
    "An Object is an instance of a Class. A class is like a blueprint while an instance is a copy of the class with actual values.\n",
    "\n",
    "An object consists of :\n",
    "\n",
    "State : It is represented by attributes of an object.\n",
    "\n",
    "Behavior : It is represented by methods of an object. \n",
    "\n",
    "Identity : It gives a unique name to an object and enables one object to interact with other objects.\n",
    "\n"
   ]
  },
  {
   "cell_type": "markdown",
   "metadata": {},
   "source": [
    "## Creating a class\n",
    "\n",
    "To create a class, use the keyword \n",
    "\n",
    "class:"
   ]
  },
  {
   "cell_type": "code",
   "execution_count": null,
   "metadata": {},
   "outputs": [],
   "source": [
    "class MyClass:\n",
    "    pass"
   ]
  },
  {
   "cell_type": "markdown",
   "metadata": {},
   "source": [
    "The `pass` statement, which can be used for function bodies as well, just says that you are not going to be doing any more implementation.\n",
    "\n",
    "Now we can use the class named MyClass to create objects:"
   ]
  },
  {
   "cell_type": "code",
   "execution_count": null,
   "metadata": {},
   "outputs": [
    {
     "name": "stdout",
     "output_type": "stream",
     "text": [
      "5\n"
     ]
    }
   ],
   "source": [
    "#Create an object named p1, and print the value of x:\n",
    "\n",
    "p1 = MyClass()\n",
    "p1.x = 5 # x was never defined earlier\n",
    "print(p1.x)"
   ]
  },
  {
   "cell_type": "markdown",
   "metadata": {},
   "source": [
    "`x` is an **instance attribute** or **instance variable**."
   ]
  },
  {
   "cell_type": "markdown",
   "metadata": {},
   "source": [
    "## Init Function or Constructor\n",
    "\n",
    "To understand the meaning of classes we have to understand the built-in `__init__()` function.\n",
    "\n",
    "All classes have a function called `__init__()`, which is always executed when the class is being initiated.\n",
    "\n",
    "Use the `__init__()` function to assign values to object properties, or other operations that are necessary to do when the object is being created:\n",
    "\n",
    "As we saw earlier, we can assign object properties outside of `__init__`, but it is good practice, and good documentation, to set up default values in a constructor."
   ]
  },
  {
   "cell_type": "code",
   "execution_count": null,
   "metadata": {},
   "outputs": [
    {
     "name": "stdout",
     "output_type": "stream",
     "text": [
      "Bruce Wayne\n",
      "32\n"
     ]
    }
   ],
   "source": [
    "#Create a class named Person, use the __init__() function to assign values for name and age:\n",
    "\n",
    "class Person:\n",
    "    def __init__(self, name, age):\n",
    "        self.name = name\n",
    "        self.age = age\n",
    "\n",
    "p1 = Person(\"Bruce Wayne\", 32)\n",
    "\n",
    "print(p1.name)\n",
    "print(p1.age)"
   ]
  },
  {
   "cell_type": "markdown",
   "metadata": {},
   "source": [
    "Note: The `__init__()` function is called automatically every time the class is being used to create a new object."
   ]
  },
  {
   "cell_type": "markdown",
   "metadata": {},
   "source": [
    "## Object Methods\n",
    "\n",
    "Objects can also contain methods. Methods in objects are functions that belong to the object.\n",
    "\n",
    "Let us create a method in the Person class:\n"
   ]
  },
  {
   "cell_type": "code",
   "execution_count": null,
   "metadata": {},
   "outputs": [
    {
     "name": "stdout",
     "output_type": "stream",
     "text": [
      "Hello my name is Bruce Wayne\n"
     ]
    }
   ],
   "source": [
    "#Insert a function that prints a greeting, and execute it on the p1 object:\n",
    "\n",
    "class Person:\n",
    "    def __init__(self, name, age):\n",
    "        self.name = name\n",
    "        self.age = age\n",
    "\n",
    "    def get_name(self):\n",
    "        print(\"Hello my name is \" + self.name)\n",
    "\n",
    "p1 = Person(\"Bruce Wayne\", 32)\n",
    "p1.get_name()"
   ]
  },
  {
   "cell_type": "markdown",
   "metadata": {},
   "source": [
    "### Encapsulation\n",
    "\n",
    "While not used heavily in python, we can choose to get the `name` instance variable only using the method `get_name`"
   ]
  },
  {
   "cell_type": "markdown",
   "metadata": {},
   "source": [
    "You can delete properties if you like.."
   ]
  },
  {
   "cell_type": "code",
   "execution_count": null,
   "metadata": {},
   "outputs": [],
   "source": [
    "#Delete the age property from the p1 object:\n",
    "\n",
    "del p1.age"
   ]
  },
  {
   "cell_type": "code",
   "execution_count": null,
   "metadata": {},
   "outputs": [
    {
     "ename": "AttributeError",
     "evalue": "'Person' object has no attribute 'age'",
     "output_type": "error",
     "traceback": [
      "\u001b[0;31m---------------------------------------------------------------------------\u001b[0m",
      "\u001b[0;31mAttributeError\u001b[0m                            Traceback (most recent call last)",
      "\u001b[0;32m<ipython-input-12-c25017774a99>\u001b[0m in \u001b[0;36m<module>\u001b[0;34m()\u001b[0m\n\u001b[0;32m----> 1\u001b[0;31m \u001b[0mp1\u001b[0m\u001b[0;34m.\u001b[0m\u001b[0mage\u001b[0m\u001b[0;34m\u001b[0m\u001b[0;34m\u001b[0m\u001b[0m\n\u001b[0m",
      "\u001b[0;31mAttributeError\u001b[0m: 'Person' object has no attribute 'age'"
     ]
    }
   ],
   "source": [
    "p1.age"
   ]
  },
  {
   "cell_type": "markdown",
   "metadata": {},
   "source": [
    "## The self Parameter\n",
    "\n",
    "The self parameter is a reference to the current instance of the class, and is used to access variables that belongs to the class.\n",
    "\n",
    "It does not have to be named `self` (but this is a convention in all python code so stick to it), you can call it whatever you like, but it has to be the first parameter of any function in the class:"
   ]
  },
  {
   "cell_type": "markdown",
   "metadata": {},
   "source": [
    "### Class Variables in Python\n",
    "Class variables are shared by all objects. Instance variables are different for different objects (every object has a copy of it).\n",
    "For example, let a Electrical Student be represented by class EEStudent. The class may have a static variable whose value is “eee” for all objects. And class may also have non-static members like name and roll.\n",
    "\n",
    "\n",
    "In Python the keyword static is not needed as compared to C++. All variables which are assigned a value in class declaration are class variables. And variables which are assigned values inside class methods are instance variables.\n"
   ]
  },
  {
   "cell_type": "code",
   "execution_count": null,
   "metadata": {},
   "outputs": [
    {
     "name": "stdout",
     "output_type": "stream",
     "text": [
      "eee\n",
      "eee\n",
      "Geek\n",
      "Nerd\n",
      "1\n",
      "2\n",
      "eee\n"
     ]
    }
   ],
   "source": [
    "# Python program to show that the variables with a value assigned in class declaration, are class variables \n",
    "  \n",
    "# Class for Electrical Student \n",
    "class EEStudent: \n",
    "    stream = 'eee'                  # Class Variable \n",
    "    def __init__(self,name,roll): \n",
    "        self.name = name            # Instance Variable \n",
    "        self.roll = roll            # Instance Variable \n",
    "  \n",
    "# Objects of EEStudent class \n",
    "a = EEStudent('Geek', 1) \n",
    "b = EEStudent('Nerd', 2) \n",
    "  \n",
    "print(a.stream)  # prints \"eee\" \n",
    "print(b.stream)  # prints \"eee\" \n",
    "print(a.name)    # prints \"Geek\" \n",
    "print(b.name)    # prints \"Nerd\" \n",
    "print(a.roll)    # prints \"1\" \n",
    "print(b.roll)    # prints \"2\" \n",
    "  \n",
    "# Class variables can be accessed using class \n",
    "# name also \n",
    "print(EEStudent.stream) # prints \"eee\" "
   ]
  },
  {
   "cell_type": "markdown",
   "metadata": {},
   "source": [
    "You can also define class methods. These are functions that belong to the class, ruther than its instances. The first argument identifies the class, and is called `cls` by convention"
   ]
  },
  {
   "cell_type": "code",
   "execution_count": null,
   "metadata": {},
   "outputs": [],
   "source": [
    "class Student: \n",
    "    streams = ['eee', 'cse']                # Class Variable\n",
    "    \n",
    "    @classmethod\n",
    "    def register_student(cls, name, roll):\n",
    "        if roll in cls.streams:\n",
    "            return cls(name, roll)\n",
    "        else:\n",
    "            raise ValueError(f\"Program {roll} not available\")\n",
    "        \n",
    "    def __init__(self, name,roll): \n",
    "        self.name = name            # Instance Variable \n",
    "        self.roll = roll            # Instance Variable "
   ]
  },
  {
   "cell_type": "code",
   "execution_count": null,
   "metadata": {},
   "outputs": [
    {
     "data": {
      "text/plain": [
       "('Rahul', 'eee')"
      ]
     },
     "execution_count": null,
     "metadata": {},
     "output_type": "execute_result"
    }
   ],
   "source": [
    "s = Student.register_student(\"Rahul\", \"eee\")\n",
    "s.name, s.roll"
   ]
  },
  {
   "cell_type": "code",
   "execution_count": null,
   "metadata": {},
   "outputs": [
    {
     "ename": "ValueError",
     "evalue": "Program efe not available",
     "output_type": "error",
     "traceback": [
      "\u001b[0;31m---------------------------------------------------------------------------\u001b[0m",
      "\u001b[0;31mValueError\u001b[0m                                Traceback (most recent call last)",
      "\u001b[0;32m<ipython-input-23-f2de3845b628>\u001b[0m in \u001b[0;36m<module>\u001b[0;34m()\u001b[0m\n\u001b[0;32m----> 1\u001b[0;31m \u001b[0ms2\u001b[0m \u001b[0;34m=\u001b[0m \u001b[0mStudent\u001b[0m\u001b[0;34m.\u001b[0m\u001b[0mregister_student\u001b[0m\u001b[0;34m(\u001b[0m\u001b[0;34m\"Rahul\"\u001b[0m\u001b[0;34m,\u001b[0m \u001b[0;34m\"efe\"\u001b[0m\u001b[0;34m)\u001b[0m\u001b[0;34m\u001b[0m\u001b[0;34m\u001b[0m\u001b[0m\n\u001b[0m",
      "\u001b[0;32m<ipython-input-21-1998a3d5dd37>\u001b[0m in \u001b[0;36mregister_student\u001b[0;34m(cls, name, roll)\u001b[0m\n\u001b[1;32m      7\u001b[0m             \u001b[0;32mreturn\u001b[0m \u001b[0mcls\u001b[0m\u001b[0;34m(\u001b[0m\u001b[0mname\u001b[0m\u001b[0;34m,\u001b[0m \u001b[0mroll\u001b[0m\u001b[0;34m)\u001b[0m\u001b[0;34m\u001b[0m\u001b[0;34m\u001b[0m\u001b[0m\n\u001b[1;32m      8\u001b[0m         \u001b[0;32melse\u001b[0m\u001b[0;34m:\u001b[0m\u001b[0;34m\u001b[0m\u001b[0;34m\u001b[0m\u001b[0m\n\u001b[0;32m----> 9\u001b[0;31m             \u001b[0;32mraise\u001b[0m \u001b[0mValueError\u001b[0m\u001b[0;34m(\u001b[0m\u001b[0;34mf\"Program {roll} not available\"\u001b[0m\u001b[0;34m)\u001b[0m\u001b[0;34m\u001b[0m\u001b[0;34m\u001b[0m\u001b[0m\n\u001b[0m\u001b[1;32m     10\u001b[0m \u001b[0;34m\u001b[0m\u001b[0m\n\u001b[1;32m     11\u001b[0m     \u001b[0;32mdef\u001b[0m \u001b[0m__init__\u001b[0m\u001b[0;34m(\u001b[0m\u001b[0mself\u001b[0m\u001b[0;34m,\u001b[0m \u001b[0mname\u001b[0m\u001b[0;34m,\u001b[0m\u001b[0mroll\u001b[0m\u001b[0;34m)\u001b[0m\u001b[0;34m:\u001b[0m\u001b[0;34m\u001b[0m\u001b[0;34m\u001b[0m\u001b[0m\n",
      "\u001b[0;31mValueError\u001b[0m: Program efe not available"
     ]
    }
   ],
   "source": [
    "s2 = Student.register_student(\"Rahul\", \"efe\")"
   ]
  },
  {
   "cell_type": "markdown",
   "metadata": {},
   "source": [
    "### Inheritance\n",
    "\n",
    "Python supports inheritance. Indeed, in python, all classes inherit from `object`, which means that they all get some attributes and methods from `object`.\n",
    "\n",
    "What is inheritance, more precisely? In inheritance an object is based on another object. When inheritance is implemented, the methods and attributes that were defined in the base class will also be present in the inherited class. This is generally done to abstract away similar code in multiple classes. The abstracted code will reside in the base class and the previous classes will now inherit from the base class.\n",
    "\n",
    "#### How to achieve Inheritance in Python\n",
    "\n",
    "```python\n",
    "class DerivedClassName(BaseClassName):\n",
    "    pass\n",
    "```\n"
   ]
  },
  {
   "cell_type": "markdown",
   "metadata": {},
   "source": [
    "Let's look at an example of inheritance. In the following example, Rocket is the base class and MarsRover is the inherited class."
   ]
  },
  {
   "cell_type": "code",
   "execution_count": null,
   "metadata": {},
   "outputs": [],
   "source": [
    "class Rocket:\n",
    "    def __init__(self, name, distance):\n",
    "        self.name = name\n",
    "        self.distance = distance\n",
    "\n",
    "    def launch(self):\n",
    "        return \"%s has reached %s\" % (self.name, self.distance)\n",
    "    \n",
    "    \n",
    "\n",
    "\n",
    "class MarsRover(Rocket): # inheriting from the base class\n",
    "    def __init__(self, name, distance, maker):\n",
    "        Rocket.__init__(self, name, distance)\n",
    "        self.maker = maker\n",
    "\n",
    "    def get_maker(self):\n",
    "        return \"%s Launched by %s\" % (self.name, self.maker)"
   ]
  },
  {
   "cell_type": "code",
   "execution_count": null,
   "metadata": {},
   "outputs": [
    {
     "name": "stdout",
     "output_type": "stream",
     "text": [
      "simple rocket has reached till stratosphere\n",
      "Mangalyaan has reached till Mars\n",
      "Mangalyaan Launched by ISRO\n"
     ]
    }
   ],
   "source": [
    "if __name__ == \"__main__\":\n",
    "    x = Rocket(\"simple rocket\", \"till stratosphere\")\n",
    "    y = MarsRover(\"Mangalyaan\", \"till Mars\", \"ISRO\")\n",
    "    print(x.launch())\n",
    "    print(y.launch()) # dispatches to Ricket's launch\n",
    "    print(y.get_maker())"
   ]
  },
  {
   "cell_type": "markdown",
   "metadata": {},
   "source": [
    "You can always override your parent class methods. One reason for overriding parent's methods is because you may want special or different functionality in your subclass."
   ]
  },
  {
   "cell_type": "code",
   "execution_count": null,
   "metadata": {},
   "outputs": [],
   "source": [
    "class Parent:        # define parent class\n",
    "    def myMethod(self):\n",
    "        print ('Calling parent method')\n",
    "\n",
    "class Child(Parent): # define child class\n",
    "    def myMethod(self):\n",
    "        print ('Calling child method')\n"
   ]
  },
  {
   "cell_type": "code",
   "execution_count": null,
   "metadata": {},
   "outputs": [
    {
     "name": "stdout",
     "output_type": "stream",
     "text": [
      "Calling child method\n"
     ]
    }
   ],
   "source": [
    "c = Child()          # instance of child\n",
    "c.myMethod()         # child calls overridden method"
   ]
  },
  {
   "cell_type": "markdown",
   "metadata": {},
   "source": [
    "### Polymorphism"
   ]
  },
  {
   "cell_type": "code",
   "execution_count": null,
   "metadata": {},
   "outputs": [
    {
     "name": "stdout",
     "output_type": "stream",
     "text": [
      "Vol for one 24\n",
      "Vol for two 169.64600329384882\n",
      "one 24\n",
      "two 169.64600329384882\n",
      "Train Voume 193.64600329384882\n"
     ]
    }
   ],
   "source": [
    "class TrainCar:\n",
    "    \n",
    "    def __init__(self, ident):\n",
    "        self.ident = ident\n",
    "        \n",
    "    def volume(self):\n",
    "        raise NotImplementedError\n",
    "        \n",
    "class BoxCar(TrainCar):\n",
    "    \n",
    "    def __init__(self, ident, l, w, h):\n",
    "        super().__init__(ident) # Be DRY\n",
    "        self.length = l\n",
    "        self.width = w\n",
    "        self.height = h\n",
    "        \n",
    "    def volume(self):\n",
    "        return self.width*self.length*self.height\n",
    "\n",
    "import math\n",
    "class TankCar(TrainCar):\n",
    "    \n",
    "    def __init__(self, ident, l, r):\n",
    "        super().__init__(ident) # Be DRY\n",
    "        self.length = l\n",
    "        self.radius = r\n",
    "        \n",
    "    def volume(self):\n",
    "        return 4*math.pi*self.length*(self.radius**2)\n",
    "    \n",
    "b = BoxCar('one', 6, 2, 2)\n",
    "print(f\"Vol for {b.ident}\", b.volume())\n",
    "t = TankCar('two', 6, 1.5)\n",
    "print(f\"Vol for {t.ident}\", t.volume())\n",
    "train = [b, t]\n",
    "for coach in train:\n",
    "    print(coach.ident, coach.volume())\n",
    "print(\"Train Voume\", sum(coach.volume() for coach in train))"
   ]
  },
  {
   "cell_type": "markdown",
   "metadata": {},
   "source": [
    "## Some conventions"
   ]
  },
  {
   "cell_type": "markdown",
   "metadata": {},
   "source": [
    "Python doesn't have any mechanism that effectively restricts access to any instance variable or method. Python prescribes a convention of prefixing the name of the variable/method with single or double underscore to emulate the behaviour of private access specifiers.\n",
    "\n",
    "All members in a Python class are public by default. Any member can be accessed from outside the class environment."
   ]
  },
  {
   "cell_type": "code",
   "execution_count": null,
   "metadata": {},
   "outputs": [],
   "source": [
    "class Employee:\n",
    "    def __init__(self, name, sal):\n",
    "        self._name=name  # protected attribute \n",
    "        self._salary=sal # protected attribute"
   ]
  },
  {
   "cell_type": "code",
   "execution_count": null,
   "metadata": {},
   "outputs": [
    {
     "data": {
      "text/plain": [
       "12000"
      ]
     },
     "execution_count": null,
     "metadata": {},
     "output_type": "execute_result"
    }
   ],
   "source": [
    "e1=Employee(\"Swati\", 12000)\n",
    "e1._salary"
   ]
  },
  {
   "cell_type": "markdown",
   "metadata": {},
   "source": [
    "You shouldnt try and access this attribute like so, as the underscore is a sign from the creator of the class to you that the internal implementation is private and might change. While in languages like C++ the language runtime will prevent access, Python wont. Its up to you.\n",
    "\n",
    "This is a soft form of encapsulation, if you like."
   ]
  }
 ],
 "metadata": {
  "kernelspec": {
   "display_name": "Python 3 (ipykernel)",
   "language": "python",
   "name": "python3"
  }
 },
 "nbformat": 4,
 "nbformat_minor": 4
}
