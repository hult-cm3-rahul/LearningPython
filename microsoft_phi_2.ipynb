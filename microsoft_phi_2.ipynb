{
  "cells": [
    {
      "cell_type": "code",
      "execution_count": null,
      "metadata": {
        "id": "Y_Tw0bXxXryO"
      },
      "outputs": [],
      "source": [
        "!pip install sentencepiece transformers accelerate einops"
      ]
    },
    {
      "cell_type": "code",
      "execution_count": null,
      "metadata": {
        "id": "NFrzMlTI4r2L"
      },
      "outputs": [],
      "source": [
        "import torch\n",
        "from transformers import AutoModelForCausalLM, AutoTokenizer\n",
        "\n",
        "torch.set_default_device(\"cuda\")\n",
        "model = AutoModelForCausalLM.from_pretrained(\"microsoft/phi-2\", torch_dtype=\"auto\", device_map=\"auto\", trust_remote_code=True)\n",
        "tokenizer = AutoTokenizer.from_pretrained(\"microsoft/phi-2\", trust_remote_code=True)"
      ]
    },
    {
      "cell_type": "code",
      "source": [
        "prompt = \"\" # @param {type:\"string\"}\n",
        "max_length = 256 # @param {type: \"integer\"}\n",
        "inputs = tokenizer(prompt, return_tensors=\"pt\", return_attention_mask=False)\n",
        "outputs = model.generate(**inputs, max_length=max_length)\n",
        "text = tokenizer.batch_decode(outputs)[0]\n",
        "print(text.split(\"<|endoftext|>\")[0])"
      ],
      "metadata": {
        "id": "R1WskQMF0r-a"
      },
      "execution_count": null,
      "outputs": []
    }
  ],
  "metadata": {
    "accelerator": "GPU",
    "colab": {
      "provenance": []
    },
    "kernelspec": {
      "display_name": "Python 3",
      "name": "python3"
    },
    "language_info": {
      "name": "python"
    }
  },
  "nbformat": 4,
  "nbformat_minor": 0
}