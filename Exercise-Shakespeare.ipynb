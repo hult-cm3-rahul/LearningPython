{
 "cells": [
  {
   "cell_type": "markdown",
   "id": "ce382836",
   "metadata": {},
   "source": [
    "# An Exercise on parsing text\n",
    "\n",
    "We're going to download the text of Julius Caesar, and parse the text from there to find the most frequent words."
   ]
  },
  {
   "cell_type": "code",
   "execution_count": null,
   "id": "d38607a6",
   "metadata": {},
   "outputs": [],
   "source": [
    "import requests"
   ]
  },
  {
   "cell_type": "code",
   "execution_count": null,
   "id": "6ac52aed",
   "metadata": {},
   "outputs": [],
   "source": [
    "r = requests.get(\"https://raw.githubusercontent.com/hult-cm3-rahul/LearningPython/main/data/JuliusCaesar.txt\")"
   ]
  },
  {
   "cell_type": "code",
   "execution_count": null,
   "id": "df3db4ce",
   "metadata": {},
   "outputs": [],
   "source": [
    "r.status_code"
   ]
  },
  {
   "cell_type": "code",
   "execution_count": null,
   "id": "d45e3c72",
   "metadata": {},
   "outputs": [],
   "source": [
    "r.text[:100]"
   ]
  },
  {
   "cell_type": "markdown",
   "id": "f72f262f",
   "metadata": {},
   "source": [
    "**Exercise 1**. Go look up the definition of string splits by searching on google, and explain what the cell below does."
   ]
  },
  {
   "cell_type": "code",
   "execution_count": null,
   "id": "1a19669a",
   "metadata": {},
   "outputs": [],
   "source": [
    "tokens = r.text.split()"
   ]
  },
  {
   "cell_type": "code",
   "execution_count": null,
   "id": "7e9714ef",
   "metadata": {},
   "outputs": [],
   "source": [
    "tokens[:100]"
   ]
  },
  {
   "cell_type": "code",
   "execution_count": null,
   "id": "3a08a8b3",
   "metadata": {},
   "outputs": [],
   "source": [
    "lower_tokens = [token.lower() for token in tokens] # look lower up"
   ]
  },
  {
   "cell_type": "code",
   "execution_count": null,
   "id": "2fe4377c",
   "metadata": {},
   "outputs": [],
   "source": [
    "lower_tokens[:100]"
   ]
  },
  {
   "cell_type": "markdown",
   "id": "87660633",
   "metadata": {},
   "source": [
    "**Exercise 2**. Go look up the definition of string `.replace` by searching on google, and explain what the cell below does."
   ]
  },
  {
   "cell_type": "code",
   "execution_count": null,
   "id": "ec4b915b",
   "metadata": {},
   "outputs": [],
   "source": [
    "cleaned_tokens = [token.replace(\"â€™\", \"\") for token in lower_tokens]"
   ]
  },
  {
   "cell_type": "code",
   "execution_count": null,
   "id": "0bd3bf46",
   "metadata": {},
   "outputs": [],
   "source": [
    "cleaned_tokens[:100]"
   ]
  },
  {
   "cell_type": "code",
   "execution_count": null,
   "id": "a0c6d3a8",
   "metadata": {},
   "outputs": [],
   "source": [
    "cleaned2 = [token[:-1] if token[-1]=='.' or token[-1]==',' else token for token in cleaned_tokens]"
   ]
  },
  {
   "cell_type": "code",
   "execution_count": null,
   "id": "89693621",
   "metadata": {},
   "outputs": [],
   "source": [
    "cleaned2[:100]"
   ]
  },
  {
   "cell_type": "code",
   "execution_count": null,
   "id": "3b0eaaac",
   "metadata": {},
   "outputs": [],
   "source": [
    "stopwords = \"\"\"\n",
    "myself\n",
    "ours\n",
    "ourselves\n",
    "you're\n",
    "you've\n",
    "you'll\n",
    "you'd\n",
    "your\n",
    "yours\n",
    "yourself\n",
    "yourselves\n",
    "himself\n",
    "she's\n",
    "hers\n",
    "herself\n",
    "it's\n",
    "itself\n",
    "they\n",
    "them\n",
    "their\n",
    "theirs\n",
    "themselves\n",
    "what\n",
    "which\n",
    "whom\n",
    "this\n",
    "that\n",
    "that'll\n",
    "these\n",
    "those\n",
    "were\n",
    "been\n",
    "being\n",
    "have\n",
    "having\n",
    "does\n",
    "doing\n",
    "because\n",
    "until\n",
    "while\n",
    "with\n",
    "about\n",
    "against\n",
    "between\n",
    "into\n",
    "through\n",
    "during\n",
    "before\n",
    "after\n",
    "above\n",
    "below\n",
    "from\n",
    "down\n",
    "over\n",
    "under\n",
    "again\n",
    "further\n",
    "then\n",
    "once\n",
    "here\n",
    "there\n",
    "when\n",
    "where\n",
    "both\n",
    "each\n",
    "more\n",
    "most\n",
    "other\n",
    "some\n",
    "such\n",
    "only\n",
    "same\n",
    "than\n",
    "very\n",
    "will\n",
    "just\n",
    "don't\n",
    "should\n",
    "should've\n",
    "aren\n",
    "aren't\n",
    "couldn\n",
    "couldn't\n",
    "didn\n",
    "didn't\n",
    "doesn\n",
    "doesn't\n",
    "hadn\n",
    "hadn't\n",
    "hasn\n",
    "hasn't\n",
    "haven\n",
    "haven't\n",
    "isn't\n",
    "mightn\n",
    "mightn't\n",
    "mustn\n",
    "mustn't\n",
    "needn\n",
    "needn't\n",
    "shan\n",
    "shan't\n",
    "shouldn\n",
    "shouldn't\n",
    "wasn\n",
    "wasn't\n",
    "weren\n",
    "weren't\n",
    "won't\n",
    "wouldn\n",
    "wouldn't\n",
    "\"\"\""
   ]
  },
  {
   "cell_type": "code",
   "execution_count": null,
   "id": "f0d5ec12",
   "metadata": {},
   "outputs": [],
   "source": [
    "sw = stopwords.split()"
   ]
  },
  {
   "cell_type": "code",
   "execution_count": null,
   "id": "0e6c3bd1",
   "metadata": {},
   "outputs": [],
   "source": [
    "sw"
   ]
  },
  {
   "cell_type": "code",
   "execution_count": null,
   "id": "3fe5cbd1",
   "metadata": {},
   "outputs": [],
   "source": [
    "sw = sw + ['â€\\x9d', 'a', 'the', 'of', 'by', 'i', 'ii', 'iii', 'iv', 'v', 'act', 'scene', 'in']"
   ]
  },
  {
   "cell_type": "code",
   "execution_count": null,
   "id": "f8c3fd2d",
   "metadata": {},
   "outputs": [],
   "source": [
    "other_removals = ['and',\n",
    " 'to',\n",
    " 'you',\n",
    " 'is',\n",
    " 'not',\n",
    " 'he',\n",
    " 'my',\n",
    " 'it',\n",
    " 'me',\n",
    " 'for',\n",
    " 'his',\n",
    " 'be',\n",
    " 'but',\n",
    " 'him',\n",
    " 'as',\n",
    " 'do',\n",
    " 'shall',\n",
    " 'so',\n",
    " 'thou',\n",
    " 'are',\n",
    " 'all',\n",
    " 'we',\n",
    " 'no',\n",
    " 'our',\n",
    " 'if',\n",
    " 'on',\n",
    " 'did',\n",
    " 'o',\n",
    " 'was',\n",
    " 'let']"
   ]
  },
  {
   "cell_type": "code",
   "execution_count": null,
   "id": "0ecba8ae",
   "metadata": {},
   "outputs": [],
   "source": [
    "sw = sw + other_removals"
   ]
  },
  {
   "cell_type": "markdown",
   "id": "9eca75d6",
   "metadata": {},
   "source": [
    "**Exercise 3**. In variable `sw_removed_list` keep all the words in `cleaned2`that are not in the stopword list `sw`"
   ]
  },
  {
   "cell_type": "code",
   "execution_count": null,
   "id": "c816937e",
   "metadata": {},
   "outputs": [],
   "source": [
    "# your code here\n"
   ]
  },
  {
   "cell_type": "code",
   "execution_count": null,
   "id": "2581c6ad",
   "metadata": {},
   "outputs": [],
   "source": [
    "sw_removed_lst[:100]"
   ]
  },
  {
   "cell_type": "code",
   "execution_count": null,
   "id": "338a77c6",
   "metadata": {},
   "outputs": [],
   "source": [
    "countdict = {}\n",
    "for ele in sw_removed_lst:\n",
    "    if ele not in countdict:\n",
    "        countdict[ele] = 0\n",
    "    countdict[ele] += 1"
   ]
  },
  {
   "cell_type": "markdown",
   "id": "bf0034b6",
   "metadata": {},
   "source": [
    "**Exercise 4**. Look up what is going on in the `sorted` function down here."
   ]
  },
  {
   "cell_type": "code",
   "execution_count": null,
   "id": "bf408f33",
   "metadata": {},
   "outputs": [],
   "source": [
    "sorted_list = sorted(countdict, key=countdict.get, reverse=True)\n",
    "for key in sorted_list[:40]:\n",
    "    print(key, countdict[key])"
   ]
  }
 ],
 "metadata": {
  "kernelspec": {
   "display_name": "ml1-arm64",
   "language": "python",
   "name": "ml1-arm64"
  }
 },
 "nbformat": 4,
 "nbformat_minor": 5
}
