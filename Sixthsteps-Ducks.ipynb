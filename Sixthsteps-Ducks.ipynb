{
 "cells": [
  {
   "cell_type": "markdown",
   "metadata": {},
   "source": [
    "# If it quacks like a duck...\n",
    "\n",
    "...And walks like a duck, it is a duck...\n",
    "\n",
    "We saw an example of Polymorphism before..."
   ]
  },
  {
   "cell_type": "code",
   "execution_count": null,
   "metadata": {},
   "outputs": [
    {
     "name": "stdout",
     "output_type": "stream",
     "text": [
      "Vol for one 24\n",
      "Vol for two 169.64600329384882\n",
      "one 24\n",
      "two 169.64600329384882\n",
      "Train Voume 193.64600329384882\n"
     ]
    }
   ],
   "source": [
    "class TrainCar:\n",
    "    \n",
    "    def __init__(self, ident):\n",
    "        self.ident = ident\n",
    "        \n",
    "    def volume(self):\n",
    "        raise NotImplementedError\n",
    "        \n",
    "class BoxCar(TrainCar):\n",
    "    \n",
    "    def __init__(self, ident, l, w, h):\n",
    "        super().__init__(ident) # Be DRY\n",
    "        self.length = l\n",
    "        self.width = w\n",
    "        self.height = h\n",
    "        \n",
    "    def volume(self):\n",
    "        return self.width*self.length*self.height\n",
    "\n",
    "import math\n",
    "class TankCar(TrainCar):\n",
    "    \n",
    "    def __init__(self, ident, l, r):\n",
    "        super().__init__(ident) # Be DRY\n",
    "        self.length = l\n",
    "        self.radius = r\n",
    "        \n",
    "    def volume(self):\n",
    "        return 4*math.pi*self.length*(self.radius**2)\n",
    "    \n",
    "b = BoxCar('one', 6, 2, 2)\n",
    "print(f\"Vol for {b.ident}\", b.volume())\n",
    "t = TankCar('two', 6, 1.5)\n",
    "print(f\"Vol for {t.ident}\", t.volume())\n",
    "train = [b, t]\n",
    "for coach in train:\n",
    "    print(coach.ident, coach.volume())\n",
    "print(\"Train Voume\", sum(coach.volume() for coach in train))"
   ]
  },
  {
   "cell_type": "markdown",
   "metadata": {},
   "source": [
    "But python is polymorphic in a much deeper sense...\n",
    "\n",
    "Let us learn about it by considering sequences in Python\n",
    "\n",
    "## Sequences in Python\n",
    "\n",
    "We talked about \"listiness\" earlier. Lets expand further on it.\n",
    "\n",
    "Python takes the idea of **protocols** very seriously. \n",
    "\n",
    "We have seen that a protocol, the idea that different objects of related types, carry out the same behavior, is key to making software general. For example, all shapes will have an `area` method, all animals will have a `call` method and so on.\n",
    "\n",
    "But one of the key aspects of python that make it a very natural language to program in is that this idea of polymorphism, this notion of protocols, pervades almost every built in class in the language. These classes may not be related (as different shapes are, and different animals are), but they still have the same methods, and thus can be used in the same ways.\n",
    "\n",
    "### Sequences\n",
    "\n",
    "To see this, let us look at many things that look like sequences in Python, but are otherwise different kinds of containers in python. All of these objects are said to follow the **sequence protocol**, which simply says, that one should (a) be able to loop over them, and (b) they should have a `len`gth."
   ]
  },
  {
   "cell_type": "code",
   "execution_count": null,
   "metadata": {},
   "outputs": [],
   "source": [
    "lst = ['hi', 7, 'c', 2.2]\n",
    "mystring = 'Hi !'\n",
    "nums = [1, 4, 7, 9, 12]"
   ]
  },
  {
   "cell_type": "markdown",
   "metadata": {},
   "source": [
    "`nums` if a list of numbers. You can iterate over them in a list comprehension. So is `lst`, but of different things."
   ]
  },
  {
   "cell_type": "code",
   "execution_count": null,
   "metadata": {},
   "outputs": [],
   "source": [
    "evens = [e for e in nums if e%2 == 0]"
   ]
  },
  {
   "cell_type": "code",
   "execution_count": null,
   "metadata": {},
   "outputs": [
    {
     "name": "stdout",
     "output_type": "stream",
     "text": [
      "hi <class 'str'>\n",
      "7 <class 'int'>\n",
      "c <class 'str'>\n",
      "2.2 <class 'float'>\n"
     ]
    }
   ],
   "source": [
    "for element in lst:\n",
    "    print(element, type(element))"
   ]
  },
  {
   "cell_type": "markdown",
   "metadata": {},
   "source": [
    "But look here, the same loop can be used to iterate over strings."
   ]
  },
  {
   "cell_type": "code",
   "execution_count": null,
   "metadata": {},
   "outputs": [
    {
     "name": "stdout",
     "output_type": "stream",
     "text": [
      "H\n",
      "i\n",
      " \n",
      "!\n"
     ]
    }
   ],
   "source": [
    "for character in mystring:\n",
    "    print(character)"
   ]
  },
  {
   "cell_type": "markdown",
   "metadata": {},
   "source": [
    "Each of these has a length:"
   ]
  },
  {
   "cell_type": "code",
   "execution_count": null,
   "metadata": {},
   "outputs": [
    {
     "data": {
      "text/plain": [
       "4"
      ]
     },
     "execution_count": null,
     "metadata": {},
     "output_type": "execute_result"
    }
   ],
   "source": [
    "len(lst)"
   ]
  },
  {
   "cell_type": "code",
   "execution_count": null,
   "metadata": {},
   "outputs": [
    {
     "data": {
      "text/plain": [
       "2"
      ]
     },
     "execution_count": null,
     "metadata": {},
     "output_type": "execute_result"
    }
   ],
   "source": [
    "len(evens)"
   ]
  },
  {
   "cell_type": "code",
   "execution_count": null,
   "metadata": {},
   "outputs": [
    {
     "data": {
      "text/plain": [
       "4"
      ]
     },
     "execution_count": null,
     "metadata": {},
     "output_type": "execute_result"
    }
   ],
   "source": [
    "len(mystring)"
   ]
  },
  {
   "cell_type": "markdown",
   "metadata": {},
   "source": [
    "And you can index into them:"
   ]
  },
  {
   "cell_type": "code",
   "execution_count": null,
   "metadata": {},
   "outputs": [
    {
     "data": {
      "text/plain": [
       "('hi', 'i', 7)"
      ]
     },
     "execution_count": null,
     "metadata": {},
     "output_type": "execute_result"
    }
   ],
   "source": [
    "lst[0], mystring[1], nums[2]"
   ]
  },
  {
   "cell_type": "markdown",
   "metadata": {},
   "source": [
    "What happens if we look at a dictionary"
   ]
  },
  {
   "cell_type": "code",
   "execution_count": null,
   "metadata": {},
   "outputs": [
    {
     "name": "stdout",
     "output_type": "stream",
     "text": [
      "age 18\n",
      "name\n",
      "age\n",
      "gender\n"
     ]
    }
   ],
   "source": [
    "d = dict(   \n",
    "    name = 'Alice',\n",
    "    age  = 18,\n",
    "    gender = 'F'\n",
    ")\n",
    "print(\"age\", d['age'])\n",
    "for item in d:\n",
    "    print(item)"
   ]
  },
  {
   "cell_type": "markdown",
   "metadata": {},
   "source": [
    "We get the keys in some order (order is not guaranteed in dictionaries. Use an `OrderedDict` for that)"
   ]
  },
  {
   "cell_type": "code",
   "execution_count": null,
   "metadata": {},
   "outputs": [
    {
     "data": {
      "text/plain": [
       "3"
      ]
     },
     "execution_count": null,
     "metadata": {},
     "output_type": "execute_result"
    }
   ],
   "source": [
    "len(d)"
   ]
  },
  {
   "cell_type": "markdown",
   "metadata": {},
   "source": [
    "What about tuples?"
   ]
  },
  {
   "cell_type": "code",
   "execution_count": null,
   "metadata": {},
   "outputs": [],
   "source": [
    "tup = (1, 2, 3)"
   ]
  },
  {
   "cell_type": "code",
   "execution_count": null,
   "metadata": {},
   "outputs": [
    {
     "name": "stdout",
     "output_type": "stream",
     "text": [
      "1\n",
      "2\n",
      "3\n"
     ]
    }
   ],
   "source": [
    "for i in tup:\n",
    "    print(i)"
   ]
  },
  {
   "cell_type": "code",
   "execution_count": null,
   "metadata": {},
   "outputs": [
    {
     "data": {
      "text/plain": [
       "3"
      ]
     },
     "execution_count": null,
     "metadata": {},
     "output_type": "execute_result"
    }
   ],
   "source": [
    "len(tup)"
   ]
  },
  {
   "cell_type": "markdown",
   "metadata": {},
   "source": [
    "All off lists, tuples, dictionaries, and strings follow the *sequence protocol*. What if you wanted to write your own class that supports the protocol?\n",
    "\n",
    "### The sequence protocol, formally: Dunder methods\n",
    "\n",
    "Any class which wants to be a sequence, must support having a length, being iterated over, and being indexable. It turns out that in Python, this is ensured by having 2 special methods defined within the class. These are `__len__`, which calculates the length of the class. When you call `len` on an instance of this class, python will *dispatch* to this **dunder** (or double-underscore) method defined by the class. The second one is `__getitem__(self, i)__`, which tells you whats in the sequence at index i. By having this we can now loop over `i`s until the `len` to iterate over the *sequence*. Here is such an implementation:"
   ]
  },
  {
   "cell_type": "code",
   "execution_count": null,
   "metadata": {},
   "outputs": [],
   "source": [
    "class Vector:\n",
    "    \n",
    "    def __init__(self, lst):\n",
    "        self.storage = lst\n",
    "        \n",
    "    def __len__(self):\n",
    "        return len(self.storage)\n",
    "    \n",
    "    def __getitem__(self, i):\n",
    "        return self.storage[i]\n",
    "\n"
   ]
  },
  {
   "cell_type": "markdown",
   "metadata": {},
   "source": [
    "This is not a particularly interesting implementation, it simply *delegates* the length calculation and indexing to the underlying list-based `self.storage` instance variable."
   ]
  },
  {
   "cell_type": "code",
   "execution_count": null,
   "metadata": {},
   "outputs": [],
   "source": [
    "v = Vector([3, 4, 5, 6])"
   ]
  },
  {
   "cell_type": "code",
   "execution_count": null,
   "metadata": {},
   "outputs": [
    {
     "data": {
      "text/plain": [
       "<__main__.Vector>"
      ]
     },
     "execution_count": null,
     "metadata": {},
     "output_type": "execute_result"
    }
   ],
   "source": [
    "v"
   ]
  },
  {
   "cell_type": "code",
   "execution_count": null,
   "metadata": {},
   "outputs": [
    {
     "data": {
      "text/plain": [
       "4"
      ]
     },
     "execution_count": null,
     "metadata": {},
     "output_type": "execute_result"
    }
   ],
   "source": [
    "v[1]"
   ]
  },
  {
   "cell_type": "code",
   "execution_count": null,
   "metadata": {},
   "outputs": [
    {
     "name": "stdout",
     "output_type": "stream",
     "text": [
      "3\n",
      "4\n",
      "5\n",
      "6\n"
     ]
    }
   ],
   "source": [
    "for i in v:\n",
    "    print(i)"
   ]
  },
  {
   "cell_type": "markdown",
   "metadata": {},
   "source": [
    "But as you can see, it does show how easy it isnto behave like a sequence. This type of protocol/polymorphism is called *Duck Typing*, a term coined by Alex Martelli, which roughly means: If it quacks like a duck (sequence) it is a Duck (sequence)."
   ]
  },
  {
   "cell_type": "markdown",
   "metadata": {},
   "source": [
    "## Printing nicer"
   ]
  },
  {
   "cell_type": "code",
   "execution_count": null,
   "metadata": {},
   "outputs": [
    {
     "data": {
      "text/plain": [
       "<__main__.Vector>"
      ]
     },
     "execution_count": null,
     "metadata": {},
     "output_type": "execute_result"
    }
   ],
   "source": [
    "v"
   ]
  },
  {
   "cell_type": "markdown",
   "metadata": {},
   "source": [
    "This is not a particularly useful printout. Lets fix this:"
   ]
  },
  {
   "cell_type": "code",
   "execution_count": null,
   "metadata": {},
   "outputs": [],
   "source": [
    "class Vector:\n",
    "    \n",
    "    def __init__(self, lst):\n",
    "        self.storage = lst.copy()\n",
    "        \n",
    "    def __len__(self):\n",
    "        return len(self.storage)\n",
    "    \n",
    "    def __getitem__(self, i):\n",
    "        return self.storage[i]\n",
    "    \n",
    "    def __repr__(self):\n",
    "        return f\"Vector({self.storage})\"\n",
    "\n",
    "v = Vector([3, 4, 5, 6])"
   ]
  },
  {
   "cell_type": "code",
   "execution_count": null,
   "metadata": {},
   "outputs": [
    {
     "data": {
      "text/plain": [
       "Vector([3, 4, 5, 6])"
      ]
     },
     "execution_count": null,
     "metadata": {},
     "output_type": "execute_result"
    }
   ],
   "source": [
    "v"
   ]
  },
  {
   "cell_type": "markdown",
   "metadata": {},
   "source": [
    "Much better! Implementing `__repr__` lets us print our object in a human-readable way. We have used a format string or a f-string to do this. Its a wierd kind of string, with a \"f\" in front of it. Python keeps this \"one letter in front of string\" syntax for alternative strings such as f-strings (start with f), byte strings (startwith b), etc. \n",
    "\n",
    "In an f-string you can interpolate python variables if you enclose them in braces. Here we'll put in the full contents of self.storage. Terrible if this is a really long list but we'll let it be for now."
   ]
  },
  {
   "cell_type": "markdown",
   "metadata": {},
   "source": [
    "## One last thing: operator overloading\n",
    "\n",
    "How do we make this Vector class useful? Python uses its dunder methods for this as well:"
   ]
  },
  {
   "cell_type": "code",
   "execution_count": null,
   "metadata": {},
   "outputs": [],
   "source": [
    "class Vector:\n",
    "    \n",
    "    def __init__(self, lst):\n",
    "        self.storage = lst\n",
    "        \n",
    "    def __len__(self):\n",
    "        return len(self.storage)\n",
    "    \n",
    "    def __getitem__(self, i):\n",
    "        return self.storage[i]\n",
    "\n",
    "    def __add__(self, other_vector):\n",
    "        sumlist = []\n",
    "        for i, _ in enumerate(other_vector):\n",
    "            sumlist.append(self.storage[i] + other_vector[i])\n",
    "        return Vector(sumlist)\n",
    "    \n",
    "    def __repr__(self):\n",
    "        return f\"Vector({self.storage})\""
   ]
  },
  {
   "cell_type": "code",
   "execution_count": null,
   "metadata": {},
   "outputs": [
    {
     "data": {
      "text/plain": [
       "Vector([5, 1, 10])"
      ]
     },
     "execution_count": null,
     "metadata": {},
     "output_type": "execute_result"
    }
   ],
   "source": [
    "v1 = Vector([4, 2, 7])\n",
    "v2 = Vector([1, -1, 3])\n",
    "v1+v2"
   ]
  },
  {
   "cell_type": "markdown",
   "metadata": {},
   "source": [
    "This is what happens when we do the addition:"
   ]
  },
  {
   "cell_type": "code",
   "execution_count": null,
   "metadata": {},
   "outputs": [
    {
     "data": {
      "text/plain": [
       "Vector([5, 1, 10])"
      ]
     },
     "execution_count": null,
     "metadata": {},
     "output_type": "execute_result"
    }
   ],
   "source": [
    "v1.__add__(v2)"
   ]
  },
  {
   "cell_type": "markdown",
   "metadata": {},
   "source": [
    "We can add lists to vectors: why? This is the beauty of Python protocols: lists support iteration and thus we just iterate over them and add one by one."
   ]
  },
  {
   "cell_type": "code",
   "execution_count": null,
   "metadata": {},
   "outputs": [
    {
     "data": {
      "text/plain": [
       "Vector([3, 1, 10])"
      ]
     },
     "execution_count": null,
     "metadata": {},
     "output_type": "execute_result"
    }
   ],
   "source": [
    "v1 + [-1, -1, 3]"
   ]
  },
  {
   "cell_type": "markdown",
   "metadata": {},
   "source": [
    "But its not possible to add a list to a vector"
   ]
  },
  {
   "cell_type": "code",
   "execution_count": null,
   "metadata": {},
   "outputs": [
    {
     "ename": "TypeError",
     "evalue": "can only concatenate list (not \"Vector\") to list",
     "output_type": "error",
     "traceback": [
      "\u001b[0;31m---------------------------------------------------------------------------\u001b[0m",
      "\u001b[0;31mTypeError\u001b[0m                                 Traceback (most recent call last)",
      "Cell \u001b[0;32mIn[6], line 1\u001b[0m\n\u001b[0;32m----> 1\u001b[0m \u001b[43m[\u001b[49m\u001b[38;5;241;43m-\u001b[39;49m\u001b[38;5;241;43m1\u001b[39;49m\u001b[43m,\u001b[49m\u001b[43m \u001b[49m\u001b[38;5;241;43m-\u001b[39;49m\u001b[38;5;241;43m1\u001b[39;49m\u001b[43m,\u001b[49m\u001b[43m \u001b[49m\u001b[38;5;241;43m3\u001b[39;49m\u001b[43m]\u001b[49m\u001b[43m \u001b[49m\u001b[38;5;241;43m+\u001b[39;49m\u001b[43m \u001b[49m\u001b[43mv1\u001b[49m\n",
      "\u001b[0;31mTypeError\u001b[0m: can only concatenate list (not \"Vector\") to list"
     ]
    }
   ],
   "source": [
    "[-1, -1, 3] + v1"
   ]
  },
  {
   "cell_type": "markdown",
   "metadata": {},
   "source": [
    "In the Python Data Model, dunder methods starting with `__r `need to be implemented to figure when the new class is on the right side of the operator. Here we define `__radd__`.\n",
    "\n",
    "Our implementation of `__radd__` simply reverses the direction of addition to take advantage of our working left addition.\n",
    "\n",
    "We also see an example of Python's error handling , using try and catch. If we get a type error (as in adding an integer) we return `NotImplemented` which allows Python to try right addition, in case the other type implements left addition with something like a vector (this is not true for integers)"
   ]
  },
  {
   "cell_type": "code",
   "execution_count": null,
   "metadata": {},
   "outputs": [],
   "source": [
    "class Vector:\n",
    "    \n",
    "    def __init__(self, lst):\n",
    "        self.storage = lst\n",
    "        \n",
    "    def __len__(self):\n",
    "        return len(self.storage)\n",
    "    \n",
    "    def __getitem__(self, i):\n",
    "        return self.storage[i]\n",
    "\n",
    "    def __add__(self, other_vector):\n",
    "        try:\n",
    "            sumlist = []\n",
    "            for i, _ in enumerate(other_vector):\n",
    "                sumlist.append(self.storage[i] + other_vector[i])\n",
    "            return Vector(sumlist)\n",
    "        except TypeError:\n",
    "            return NotImplemented\n",
    "    \n",
    "    def __radd__(self, other_vector):\n",
    "        # turn other + self around\n",
    "        return self + other_vector\n",
    "    \n",
    "    def __repr__(self):\n",
    "        return f\"Vector({self.storage})\""
   ]
  },
  {
   "cell_type": "code",
   "execution_count": null,
   "metadata": {},
   "outputs": [
    {
     "data": {
      "text/plain": [
       "Vector([5, 1, 10])"
      ]
     },
     "execution_count": null,
     "metadata": {},
     "output_type": "execute_result"
    }
   ],
   "source": [
    "v1 = Vector([4, 2, 7])\n",
    "v2 = Vector([1, -1, 3])\n",
    "v1+v2"
   ]
  },
  {
   "cell_type": "code",
   "execution_count": null,
   "metadata": {},
   "outputs": [
    {
     "data": {
      "text/plain": [
       "Vector([3, 1, 10])"
      ]
     },
     "execution_count": null,
     "metadata": {},
     "output_type": "execute_result"
    }
   ],
   "source": [
    "[-1, -1, 3] + v1"
   ]
  }
 ],
 "metadata": {
  "kernelspec": {
   "display_name": "Python 3 (ipykernel)",
   "language": "python",
   "name": "python3"
  }
 },
 "nbformat": 4,
 "nbformat_minor": 4
}
